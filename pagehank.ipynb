{
 "cells": [
  {
   "cell_type": "code",
   "execution_count": 1,
   "metadata": {},
   "outputs": [],
   "source": [
    "import numpy\n",
    "import pandas\n",
    "\n",
    "data = pandas.read_csv(\"soc-sign-bitcoinotc.csv\", names=['source', 'target', 'rating', 'time'])\n",
    "\n",
    "data = data[data.rating>=8]"
   ]
  },
  {
   "cell_type": "code",
   "execution_count": 2,
   "metadata": {},
   "outputs": [
    {
     "name": "stdout",
     "output_type": "stream",
     "text": [
      "Count: 0\n",
      "Count: 1\n",
      "Count: 2\n",
      "Count: 3\n",
      "Count: 4\n",
      "Count: 5\n",
      "Count: 6\n",
      "Count: 7\n",
      "Count: 8\n",
      "Count: 9\n",
      "Count: 10\n",
      "Count: 11\n",
      "Count: 12\n",
      "Count: 13\n",
      "Count: 14\n",
      "Count: 15\n",
      "Count: 16\n",
      "Count: 17\n",
      "Count: 18\n",
      "Count: 19\n",
      "Count: 20\n",
      "Count: 21\n",
      "Count: 22\n"
     ]
    }
   ],
   "source": [
    "# step counter to convergence\n",
    "count = 0\n",
    "\n",
    "# recursive pagehank algoritm\n",
    "def pagehank(v):\n",
    "    global count\n",
    "    print(\"Count:\", count)\n",
    "    if sum(abs(m*v-v)) > 0.001:\n",
    "        count +=1\n",
    "        return pagehank(m*v)\n",
    "    else:\n",
    "        count += 1\n",
    "        print(\"Count:\", count)\n",
    "        return m*v\n",
    "\n",
    "def get_index(data):\n",
    "    index = {}\n",
    "    for source, target in zip(data.source, data.target):\n",
    "        if source in index.keys():\n",
    "            index[source].append(target)\n",
    "        else:\n",
    "            index[source] = [target]\n",
    "            \n",
    "        if not target in index.keys(): index[target] = []\n",
    "\n",
    "    return index\n",
    "\n",
    "def to_matrix(matrix):\n",
    "    aux = []\n",
    "    keys = list(matrix.keys())\n",
    "    size = len(keys)\n",
    "    for i in range(size):\n",
    "        line = [0 for i in keys]\n",
    "        if len(matrix[keys[i]]) == 0:\n",
    "            line = [1/size for i in range(size)]\n",
    "        for j in matrix[keys[i]]:\n",
    "            line[keys.index(j)] = 1 / len(matrix[keys[i]])\n",
    "        aux.append(line)\n",
    "    return aux, keys\n",
    "\n",
    "matrix, keys = to_matrix(get_index(data))\n",
    "matrix = numpy.transpose(numpy.matrix(matrix))\n",
    "\n",
    "size = len(matrix)\n",
    "\n",
    "b = (1/size) * numpy.matrix([[1 for i in range(size)] for j in range(size)])\n",
    "\n",
    "m = 0.85*matrix + 0.15*b\n",
    "\n",
    "v = (1/size) * numpy.matrix([[1] for i in range(size)])\n",
    "\n",
    "result = list(pagehank(v))"
   ]
  },
  {
   "cell_type": "code",
   "execution_count": 3,
   "metadata": {},
   "outputs": [],
   "source": [
    "data_pagehank = pandas.DataFrame({'source': keys, 'pagehank': [i.item(0) for i in result]})\n",
    "data_pagehank.to_csv('./pagehank.csv', index=False)\n",
    "\n",
    "del data['rating']\n",
    "del data['time']\n",
    "\n",
    "data.to_csv('./matrix.csv', index=False)"
   ]
  },
  {
   "cell_type": "code",
   "execution_count": 4,
   "metadata": {},
   "outputs": [],
   "source": [
    "top5_score = sorted(result, reverse=True)[:5]"
   ]
  },
  {
   "cell_type": "code",
   "execution_count": 5,
   "metadata": {},
   "outputs": [
    {
     "name": "stdout",
     "output_type": "stream",
     "text": [
      "Para o segunte algoritmo o o número de iteraçõe necessários para se alcançar a convergencia  22\n"
     ]
    }
   ],
   "source": [
    "print(\"Para o segunte algoritmo o o número de iteraçõe necessários para se alcançar a convergencia \", count)"
   ]
  },
  {
   "cell_type": "code",
   "execution_count": 6,
   "metadata": {},
   "outputs": [
    {
     "name": "stdout",
     "output_type": "stream",
     "text": [
      "O 5 invstidores melhores ranqueados e seus respectivos scores são:\n",
      "- investidor 1, com score: 0.02011\n",
      "- investidor 25, com score: 0.01213\n",
      "- investidor 4172, com score: 0.00979\n",
      "- investidor 2642, com score: 0.00962\n",
      "- investidor 1018, com score: 0.00756\n"
     ]
    }
   ],
   "source": [
    "top5_investors = [keys[result.index(i)] for i in top5_score]\n",
    "top5 = zip(top5_investors, top5_score)\n",
    "\n",
    "print(\"O 5 invstidores melhores ranqueados e seus respectivos scores são:\")\n",
    "for investor, score in top5: print(\"- investidor %d, com score: %.5f\" % (investor, score))"
   ]
  },
  {
   "cell_type": "markdown",
   "metadata": {},
   "source": [
    "O pagehank poderia ser udado para achar os nogociantes mais indicados, que tem mais recomendações e podem ser considerados os mais confiáveis para negociações. Também para avaliação de custo beneficio, dado um grupo de investidores que oferecem melhores codições saber qual é o mais buscado e mais influen."
   ]
  }
 ],
 "metadata": {
  "kernelspec": {
   "display_name": "Python 3",
   "language": "python",
   "name": "python3"
  },
  "language_info": {
   "codemirror_mode": {
    "name": "ipython",
    "version": 3
   },
   "file_extension": ".py",
   "mimetype": "text/x-python",
   "name": "python",
   "nbconvert_exporter": "python",
   "pygments_lexer": "ipython3",
   "version": "3.5.2"
  }
 },
 "nbformat": 4,
 "nbformat_minor": 2
}
